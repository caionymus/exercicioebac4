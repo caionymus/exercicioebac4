{
 "cells": [
  {
   "cell_type": "markdown",
   "metadata": {},
   "source": [
    "# Tarefa 01\n",
    "\n",
    "- Leia os enunciados com atenção\n",
    "- Saiba que pode haver mais de uma resposta correta\n",
    "- Insira novas células de código sempre que achar necessário\n",
    "- Em caso de dúvidas, procure os tutores\n",
    "- Divirta-se :)\n",
    "\n",
    "#### 1)  crie uma série do pandas a partir de uma lista com os dados abaixo:\n",
    "\n",
    "Em um estudo sobre alteração na tempreatura global, A NASA disponibiliza dados de diferenças de de temperatura média da superfície terrestre relativos às médias de temperatura entre 1951 e 1980. Os dados originais podem ser vistos no site da NASA/GISS, e estão dispostos a cada década na tabela abaixo.\n",
    "\n",
    "|ano|anomalia termica|\n",
    "|:-:|:----:|\n",
    "| 1900 | -0.08 |\n",
    "| 1920 | -0.27 |\n",
    "| 1940 | 0.12 |\n",
    "| 1960 | -0.03 |\n",
    "| 1980 | 0.26 |\n",
    "| 2000 | 0.40 |\n",
    "| 2020 | 1.02 |\n",
    "\n",
    "Crie uma séries do Pandas a partir de uma lista com esses dados."
   ]
  },
  {
   "cell_type": "code",
   "execution_count": 1,
   "metadata": {},
   "outputs": [
    {
     "name": "stdout",
     "output_type": "stream",
     "text": [
      "1900   -0.08\n",
      "1920   -0.27\n",
      "1940    0.12\n",
      "1960   -0.03\n",
      "1980    0.26\n",
      "2000    0.40\n",
      "2020    1.02\n",
      "dtype: float64\n"
     ]
    }
   ],
   "source": [
    "import pandas as pd\n",
    "import numpy as np\n",
    "\n",
    "serie_temperatura = pd.Series([-0.08, -0.27, 0.12, -0.03, 0.26, 0.40, 1.02],\n",
    "                                 index=['1900', '1920', '1940', '1960', '1980', '2000', '2020'])\n",
    "print(serie_temperatura)\n"
   ]
  },
  {
   "cell_type": "markdown",
   "metadata": {},
   "source": [
    "#### 2) Coloque os anos nos índices conforme a tabela."
   ]
  },
  {
   "cell_type": "code",
   "execution_count": 2,
   "metadata": {},
   "outputs": [
    {
     "name": "stdout",
     "output_type": "stream",
     "text": [
      "1900   -0.08\n",
      "1920   -0.27\n",
      "1940    0.12\n",
      "1960   -0.03\n",
      "1980    0.26\n",
      "2000    0.40\n",
      "2020    1.02\n",
      "dtype: float64\n"
     ]
    }
   ],
   "source": [
    "temperatura = [-0.08, -0.27, 0.12, -0.03, 0.26, 0.40, 1.02]\n",
    "anos = [1900, 1920, 1940, 1960, 1980, 2000, 2020]\n",
    "\n",
    "serie_temperatura = pd.Series(temperatura, index=anos)\n",
    "print(serie_temperatura)"
   ]
  },
  {
   "cell_type": "markdown",
   "metadata": {},
   "source": [
    "#### 3) A partir do dicionário abaixo, crie uma séries do Pandas:"
   ]
  },
  {
   "cell_type": "code",
   "execution_count": 3,
   "metadata": {},
   "outputs": [
    {
     "name": "stdout",
     "output_type": "stream",
     "text": [
      "1900   -0.08\n",
      "1920   -0.27\n",
      "1940    0.12\n",
      "1960   -0.03\n",
      "1980    0.26\n",
      "2000    0.40\n",
      "2020    1.02\n",
      "dtype: float64\n"
     ]
    }
   ],
   "source": [
    "dic_temperaturas = {1900: -.08, 1920: -.27, 1940: .12, 1960: -.03, 1980: .26, 2000: .40, 2020: 1.02}\n",
    "\n",
    "serie_temperatura = pd.Series(dic_temperaturas)\n",
    "print(serie_temperatura)"
   ]
  },
  {
   "cell_type": "markdown",
   "metadata": {},
   "source": [
    "#### 4) Transforme o ndarray abaixo em um dataframe. \n",
    "O numpy é capaz de gerar arrays n-dimensionais com números pseudo-aleatórios de acordo com uma variedade de distribuições, como no exemplo abaixo. Transforme esse nd-array em um DataFrame."
   ]
  },
  {
   "cell_type": "code",
   "execution_count": 4,
   "metadata": {},
   "outputs": [
    {
     "name": "stdout",
     "output_type": "stream",
     "text": [
      "             0           1           2\n",
      "0    93.311421  102.423010  120.599206\n",
      "1    87.322809   97.426465   98.684934\n",
      "2   102.713196   89.524124   89.832338\n",
      "3   102.586685   94.440930  104.417914\n",
      "4    96.719122   98.683929  101.479712\n",
      "5    94.330584   90.779733   98.872947\n",
      "6    96.392724   89.649321  113.436422\n",
      "7    94.120172   95.607611  106.201400\n",
      "8   110.642796  100.107974   92.254743\n",
      "9   110.842571  100.544173   99.494026\n",
      "10   94.718914   99.314722   88.277885\n",
      "11  104.318823  109.069414  100.317435\n",
      "12   99.496079   95.532971  106.932165\n",
      "13   99.191827  105.518650   83.941204\n",
      "14  118.348829  113.015485   93.178029\n",
      "15   88.765336   92.329660  106.275042\n",
      "16  109.282354   92.906672   71.674523\n",
      "17  108.299303  103.335713   99.353677\n",
      "18  112.427001  113.583554   92.032358\n",
      "19   94.079789  108.055159  106.204012\n"
     ]
    }
   ],
   "source": [
    "arr = np.random.normal(100, 10, (20,3))\n",
    "\n",
    "df = pd.DataFrame(arr)\n",
    "print(df)"
   ]
  },
  {
   "cell_type": "markdown",
   "metadata": {},
   "source": [
    "#### 5) Nomeie os índices das linhas com inteiros de 1 a 20, e as colunas com os nomes \"x1\", \"x2\", e \"x3\" respectivamente."
   ]
  },
  {
   "cell_type": "code",
   "execution_count": 5,
   "metadata": {},
   "outputs": [
    {
     "name": "stdout",
     "output_type": "stream",
     "text": [
      "            x1          x2          x3\n",
      "1    93.311421  102.423010  120.599206\n",
      "2    87.322809   97.426465   98.684934\n",
      "3   102.713196   89.524124   89.832338\n",
      "4   102.586685   94.440930  104.417914\n",
      "5    96.719122   98.683929  101.479712\n",
      "6    94.330584   90.779733   98.872947\n",
      "7    96.392724   89.649321  113.436422\n",
      "8    94.120172   95.607611  106.201400\n",
      "9   110.642796  100.107974   92.254743\n",
      "10  110.842571  100.544173   99.494026\n",
      "11   94.718914   99.314722   88.277885\n",
      "12  104.318823  109.069414  100.317435\n",
      "13   99.496079   95.532971  106.932165\n",
      "14   99.191827  105.518650   83.941204\n",
      "15  118.348829  113.015485   93.178029\n",
      "16   88.765336   92.329660  106.275042\n",
      "17  109.282354   92.906672   71.674523\n",
      "18  108.299303  103.335713   99.353677\n",
      "19  112.427001  113.583554   92.032358\n",
      "20   94.079789  108.055159  106.204012\n"
     ]
    }
   ],
   "source": [
    "df.index = range(1, 21)\n",
    "df.columns = [\"x1\", \"x2\", \"x3\"]\n",
    "print(df)"
   ]
  },
  {
   "cell_type": "markdown",
   "metadata": {},
   "source": [
    "#### 6) No DataFrame do exercício 5, crie uma nova coluna como sendo a média das três colunas, e dê a ela o nome de \"media\" (não recomendo colocar acentos em nomes de variáveis)."
   ]
  },
  {
   "cell_type": "code",
   "execution_count": 6,
   "metadata": {},
   "outputs": [
    {
     "name": "stdout",
     "output_type": "stream",
     "text": [
      "            x1          x2          x3       media\n",
      "1    93.311421  102.423010  120.599206  105.444546\n",
      "2    87.322809   97.426465   98.684934   94.478070\n",
      "3   102.713196   89.524124   89.832338   94.023219\n",
      "4   102.586685   94.440930  104.417914  100.481843\n",
      "5    96.719122   98.683929  101.479712   98.960921\n",
      "6    94.330584   90.779733   98.872947   94.661088\n",
      "7    96.392724   89.649321  113.436422   99.826156\n",
      "8    94.120172   95.607611  106.201400   98.643061\n",
      "9   110.642796  100.107974   92.254743  101.001838\n",
      "10  110.842571  100.544173   99.494026  103.626923\n",
      "11   94.718914   99.314722   88.277885   94.103840\n",
      "12  104.318823  109.069414  100.317435  104.568557\n",
      "13   99.496079   95.532971  106.932165  100.653739\n",
      "14   99.191827  105.518650   83.941204   96.217227\n",
      "15  118.348829  113.015485   93.178029  108.180781\n",
      "16   88.765336   92.329660  106.275042   95.790012\n",
      "17  109.282354   92.906672   71.674523   91.287850\n",
      "18  108.299303  103.335713   99.353677  103.662897\n",
      "19  112.427001  113.583554   92.032358  106.014304\n",
      "20   94.079789  108.055159  106.204012  102.779654\n"
     ]
    }
   ],
   "source": [
    "df[\"media\"] = df.mean(axis=1)\n",
    "print(df)"
   ]
  },
  {
   "cell_type": "markdown",
   "metadata": {},
   "source": [
    "#### 7) No DataFrame do exercício 6, crie uma nova coluna chamada \"log_med\", contendo o logaritmo natural da média calculada no exercício 6 <br>"
   ]
  },
  {
   "cell_type": "code",
   "execution_count": 7,
   "metadata": {},
   "outputs": [
    {
     "name": "stdout",
     "output_type": "stream",
     "text": [
      "            x1          x2          x3       media   log_med\n",
      "1    93.311421  102.423010  120.599206  105.444546  4.658185\n",
      "2    87.322809   97.426465   98.684934   94.478070  4.548368\n",
      "3   102.713196   89.524124   89.832338   94.023219  4.543542\n",
      "4   102.586685   94.440930  104.417914  100.481843  4.609977\n",
      "5    96.719122   98.683929  101.479712   98.960921  4.594725\n",
      "6    94.330584   90.779733   98.872947   94.661088  4.550303\n",
      "7    96.392724   89.649321  113.436422   99.826156  4.603430\n",
      "8    94.120172   95.607611  106.201400   98.643061  4.591508\n",
      "9   110.642796  100.107974   92.254743  101.001838  4.615139\n",
      "10  110.842571  100.544173   99.494026  103.626923  4.640797\n",
      "11   94.718914   99.314722   88.277885   94.103840  4.544399\n",
      "12  104.318823  109.069414  100.317435  104.568557  4.649843\n",
      "13   99.496079   95.532971  106.932165  100.653739  4.611686\n",
      "14   99.191827  105.518650   83.941204   96.217227  4.566608\n",
      "15  118.348829  113.015485   93.178029  108.180781  4.683804\n",
      "16   88.765336   92.329660  106.275042   95.790012  4.562158\n",
      "17  109.282354   92.906672   71.674523   91.287850  4.514018\n",
      "18  108.299303  103.335713   99.353677  103.662897  4.641144\n",
      "19  112.427001  113.583554   92.032358  106.014304  4.663574\n",
      "20   94.079789  108.055159  106.204012  102.779654  4.632587\n"
     ]
    }
   ],
   "source": [
    "df[\"log_med\"] = np.log(df[\"media\"])\n",
    "print(df)"
   ]
  },
  {
   "cell_type": "code",
   "execution_count": null,
   "metadata": {},
   "outputs": [],
   "source": []
  }
 ],
 "metadata": {
  "kernelspec": {
   "display_name": "Python 3 (ipykernel)",
   "language": "python",
   "name": "python3"
  },
  "language_info": {
   "codemirror_mode": {
    "name": "ipython",
    "version": 3
   },
   "file_extension": ".py",
   "mimetype": "text/x-python",
   "name": "python",
   "nbconvert_exporter": "python",
   "pygments_lexer": "ipython3",
   "version": "3.11.4"
  }
 },
 "nbformat": 4,
 "nbformat_minor": 4
}
